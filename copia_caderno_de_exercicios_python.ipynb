{
  "nbformat": 4,
  "nbformat_minor": 0,
  "metadata": {
    "colab": {
      "provenance": [],
      "authorship_tag": "ABX9TyPIe6dvM7X0RMO4dog4LZeO",
      "include_colab_link": true
    },
    "kernelspec": {
      "name": "python3",
      "display_name": "Python 3"
    },
    "language_info": {
      "name": "python"
    }
  },
  "cells": [
    {
      "cell_type": "markdown",
      "metadata": {
        "id": "view-in-github",
        "colab_type": "text"
      },
      "source": [
        "<a href=\"https://colab.research.google.com/github/dpinkpants/python-course/blob/main/copia_caderno_de_exercicios_python.ipynb\" target=\"_parent\"><img src=\"https://colab.research.google.com/assets/colab-badge.svg\" alt=\"Open In Colab\"/></a>"
      ]
    },
    {
      "cell_type": "markdown",
      "source": [
        "# Caderno de Exercícios em Python\n",
        "\n",
        "## Apresentação:\n",
        "\n",
        "Bem-vindo ao Caderno de Exercícios em Python! Este caderno foi projetado para ajudar você a aprender e praticar conceitos fundamentais de programação em Python, com exercícios práticos e explicações claras.\n",
        "\n",
        "## Exercício 1: Condicionais Simples\n",
        "\n",
        "### Texto Explicativo:\n",
        "\n",
        "Em programação, condicionais permitem que o computador tome decisões. Usamos a estrutura if para executar código apenas se uma condição for verdadeira."
      ],
      "metadata": {
        "id": "RxW1_poaL9I6"
      }
    },
    {
      "cell_type": "code",
      "execution_count": null,
      "metadata": {
        "id": "c-ybONwOL7xe"
      },
      "outputs": [],
      "source": [
        "# Exercício Resolvido: Verificar maioridade\n",
        "idade = int(input(\"Digite sua idade: \"))\n",
        "if idade >= 18:\n",
        "    print(\"Você é maior de idade e pode tirar a carteira de motorista.\")\n",
        "else:\n",
        "    print(\"Você ainda não pode tirar a carteira de motorista.\")"
      ]
    },
    {
      "cell_type": "markdown",
      "source": [
        "### Exercícios de Fixação:\n",
        "\n",
        "1. Pergunte ao usuário sua idade e imprima \"Pode votar\" se for maior ou igual a 16 anos.\n",
        "\n",
        "Passo a passo:\n",
        "\n",
        "1. Receba a idade do usuário: Use input() para perguntar ao usuário sua idade.\n",
        "2. Converter para inteiro: Como input() retorna uma string, converta a idade para um número inteiro com int().\n",
        "3. Verifique a condição: Use if para verificar se a idade é maior ou igual a 16.\n",
        "4. Imprima a mensagem: Se a condição for verdadeira, imprima \"Pode votar\"."
      ],
      "metadata": {
        "id": "a7r2HiS4PNdL"
      }
    },
    {
      "cell_type": "code",
      "source": [
        "# Escreva seu código aqui\n",
        "\n",
        "# 2. Crie um programa que verifique se um número é positivo, negativo ou zero.\n",
        "\n",
        "# 3. Solicite a temperatura ao usuário e informe se está quente (acima de 30 graus) ou frio (30 graus ou menos)."
      ],
      "metadata": {
        "id": "HZfQfgM-PPw9"
      },
      "execution_count": null,
      "outputs": []
    },
    {
      "cell_type": "markdown",
      "source": [
        "## Exercício 2: Operações Matemáticas\n",
        "\n",
        "### Texto Explicativo:\n",
        "\n",
        "Python é excelente para fazer cálculos. Podemos realizar operações matemáticas básicas como adição, subtração, multiplicação e divisão. Vamos calcular o peso ideal usando fórmulas específicas de acordo com o sexo.\n",
        "\n",
        "### Referência Matemática:\n",
        "\n",
        "- Para homens: $\\text{peso ideal} = (72.7 \\times \\text{altura}) - 58$\n",
        "- Para mulheres: $\\text{peso ideal} = (62.1 \\times \\text{altura}) - 44.7$"
      ],
      "metadata": {
        "id": "oX4yefPOPaho"
      }
    },
    {
      "cell_type": "code",
      "source": [
        "# Exercício Resolvido: Calcular o peso ideal\n",
        "altura = float(input(\"Digite sua altura em metros: \"))\n",
        "sexo = input(\"Digite seu sexo (M/F): \").upper()\n",
        "\n",
        "if sexo == \"M\":\n",
        "    peso_ideal = (72.7 * altura) - 58\n",
        "else:\n",
        "    peso_ideal = (62.1 * altura) - 44.7\n",
        "\n",
        "print(f\"Seu peso ideal é {peso_ideal:.2f} kg.\")"
      ],
      "metadata": {
        "id": "AaTnr8wuPbrA"
      },
      "execution_count": null,
      "outputs": []
    },
    {
      "cell_type": "markdown",
      "source": [
        "### Exercícios de Fixação:\n",
        "\n",
        "1. Calcule a soma e a média de três números fornecidos pelo usuário.\n",
        "\n",
        "Passo a passo:\n",
        "\n",
        "1. Receber os números do usuário: Use input() para receber três números.\n",
        "2. Converter para float: Converta as entradas para números decimais com float().\n",
        "3. Calcular a soma: Some os três números.\n",
        "4. Calcular a média: Divida a soma por 3.\n",
        "5. Imprimir os resultados: Mostre a soma e a média."
      ],
      "metadata": {
        "id": "eLcI0lYKPeUz"
      }
    },
    {
      "cell_type": "code",
      "source": [
        "# Escreva seu código aqui\n",
        "\n",
        "# 2. Peça a altura e o raio de um cilindro ao usuário e calcule seu volume.\n",
        "# Fórmula: volume = π * raio^2 * altura\n",
        "\n",
        "# 3. Converta uma temperatura de Celsius para Fahrenheit.\n",
        "# Fórmula: F = (C * 9/5) + 32"
      ],
      "metadata": {
        "id": "AX398JslPgy3"
      },
      "execution_count": null,
      "outputs": []
    },
    {
      "cell_type": "markdown",
      "source": [],
      "metadata": {
        "id": "EeI1VZ4jPlFU"
      }
    },
    {
      "cell_type": "markdown",
      "source": [
        "## Exercício 3: Estruturas de Repetição\n",
        "\n",
        "### Texto Explicativo:\n",
        "\n",
        "Os loops permitem que executemos um bloco de código várias vezes. for é usado para iterar sobre sequências, enquanto while continua até que uma condição seja falsa."
      ],
      "metadata": {
        "id": "MIe95pEiPlHf"
      }
    },
    {
      "cell_type": "code",
      "source": [
        "# Exercício Resolvido: Calcular o fatorial de um número\n",
        "numero = int(input(\"Digite um número: \"))\n",
        "fatorial = 1\n",
        "\n",
        "for i in range(1, numero + 1):\n",
        "    fatorial *= i\n",
        "\n",
        "print(f\"O fatorial de {numero} é {fatorial}.\")"
      ],
      "metadata": {
        "id": "P1tr49WmPl-2"
      },
      "execution_count": null,
      "outputs": []
    },
    {
      "cell_type": "code",
      "source": [
        "### Exercícios de Fixação:\n",
        "\n",
        "1. Imprima os números pares de 1 a 20.\n",
        "\n",
        "Passo a passo:\n",
        "\n",
        "1. Configurar o loop: Use for para criar um loop que percorre números de 1 a 20.\n",
        "2. Verificar se o número é par: Dentro do loop, use if para verificar se o número é divisível por 2 (numero % 2 == 0).\n",
        "3. Imprimir números pares: Se a condição for verdadeira, imprima o número."
      ],
      "metadata": {
        "id": "auL-Q93jPpcN"
      },
      "execution_count": null,
      "outputs": []
    },
    {
      "cell_type": "code",
      "source": [
        "# Escreva seu código aqui\n",
        "\n",
        "# 2. Use um loop while para encontrar a soma dos números de 1 a 100.\n",
        "\n",
        "# 3. Crie um loop que imprima a tabuada de multiplicação de 5."
      ],
      "metadata": {
        "id": "RbLIPTbAPuwV"
      },
      "execution_count": null,
      "outputs": []
    },
    {
      "cell_type": "markdown",
      "source": [
        "## Exercício 4: Listas e Compreensões de Lista\n",
        "\n",
        "### Texto Explicativo:\n",
        "\n",
        "Listas são coleções de itens de qualquer tipo. Podemos usar compreensões de lista para criar listas de forma elegante e eficiente."
      ],
      "metadata": {
        "id": "_FyDhK_pPv0e"
      }
    },
    {
      "cell_type": "code",
      "source": [
        "# Exercício Resolvido: Criar lista de quadrados\n",
        "numeros = [1, 2, 3, 4, 5]\n",
        "quadrados = [n**2 for n in numeros]\n",
        "print(quadrados)"
      ],
      "metadata": {
        "id": "Aeuw9VLcP0ub"
      },
      "execution_count": null,
      "outputs": []
    },
    {
      "cell_type": "markdown",
      "source": [
        "### Exercícios de Fixação:\n",
        "\n",
        "1. Crie uma lista contendo os números de 1 a 10.\n",
        "\n",
        "Passo a passo:\n",
        "\n",
        "1. Criar uma lista vazia: Inicie com uma lista vazia.\n",
        "2. Usar um loop para preencher a lista: Utilize um loop for para adicionar números de 1 a 10 na lista.\n",
        "3. Imprimir a lista: Após o loop, exiba a lista resultante."
      ],
      "metadata": {
        "id": "JG_jvVqOP4H6"
      }
    },
    {
      "cell_type": "code",
      "source": [
        "# Escreva seu código aqui\n",
        "\n",
        "# 2. Adicione o número 11 ao final da lista.\n",
        "\n",
        "# 3. Remova todos os números pares da lista."
      ],
      "metadata": {
        "id": "aKFFePK-P5_P"
      },
      "execution_count": null,
      "outputs": []
    },
    {
      "cell_type": "markdown",
      "source": [
        "## Exercício 5: Funções\n",
        "\n",
        "### Texto Explicativo:\n",
        "\n",
        "Funções são blocos de código reutilizáveis que executam uma tarefa específica. Elas ajudam a modularizar e organizar o código."
      ],
      "metadata": {
        "id": "UHqyu3CTP85W"
      }
    },
    {
      "cell_type": "code",
      "source": [
        "# Exercício Resolvido: Função para somar dois números\n",
        "def somar(a, b):\n",
        "    return a + b\n",
        "\n",
        "numero1 = int(input(\"Digite o primeiro número: \"))\n",
        "numero2 = int(input(\"Digite o segundo número: \"))\n",
        "\n",
        "print(f\"A soma é: {somar(numero1, numero2)}\")"
      ],
      "metadata": {
        "id": "KpCblVuFP-mh"
      },
      "execution_count": null,
      "outputs": []
    },
    {
      "cell_type": "markdown",
      "source": [
        "### Exercícios de Fixação:\n",
        "\n",
        "1. Crie uma função que receba um número e retorne se ele é par ou ímpar.\n",
        "\n",
        "Passo a passo:\n",
        "\n",
        "1. Definir a função: Use def seguido pelo nome da função e parâmetros.\n",
        "2. Verificar a condição: Dentro da função, use if para verificar se o número é divisível por 2.\n",
        "3. Retornar o resultado: Use return para retornar \"par\" ou \"ímpar\"."
      ],
      "metadata": {
        "id": "8RoGZi4jQCaZ"
      }
    },
    {
      "cell_type": "code",
      "source": [
        "# Escreva seu código aqui\n",
        "\n",
        "# 2. Escreva uma função que receba uma lista de números e retorne o maior número.\n",
        "\n",
        "# 3. Desenvolva uma função que calcule o quadrado de um número."
      ],
      "metadata": {
        "id": "ONVDYLGFQF8H"
      },
      "execution_count": null,
      "outputs": []
    },
    {
      "cell_type": "markdown",
      "source": [
        "## Exercício 6: Manipulação de Strings\n",
        "\n",
        "### Texto Explicativo:\n",
        "\n",
        "Strings são sequências de caracteres, e Python oferece várias maneiras de manipulá-las, como transformar, substituir e verificar conteúdo."
      ],
      "metadata": {
        "id": "uvRj0uUdQG99"
      }
    },
    {
      "cell_type": "code",
      "source": [
        "# Exercício Resolvido: Verificar palíndromo\n",
        "texto = input(\"Digite uma palavra: \")\n",
        "\n",
        "if texto == texto[::-1]:\n",
        "    print(\"É um palíndromo\")\n",
        "else:\n",
        "    print(\"Não é um palíndromo\")"
      ],
      "metadata": {
        "id": "H99jONm6QJdR"
      },
      "execution_count": null,
      "outputs": []
    },
    {
      "cell_type": "markdown",
      "source": [
        "### Exercícios de Fixação:\n",
        "\n",
        "1. Converta uma string para maiúsculas e imprima.\n",
        "\n",
        "Passo a passo:\n",
        "\n",
        "1. Receber a string do usuário: Use input() para receber uma frase.\n",
        "2. Converter para maiúsculas: Use o método .upper() para transformar a string em maiúsculas.\n",
        "3. Imprimir o resultado: Exiba a string modificada."
      ],
      "metadata": {
        "id": "V_BhmoJSQLXW"
      }
    },
    {
      "cell_type": "code",
      "source": [
        "# Escreva seu código aqui\n",
        "\n",
        "# 2. Substitua todas as ocorrências de \"a\" por \"@\" em uma string.\n",
        "\n",
        "# 3. Verifique se uma palavra termina com \"ing\"."
      ],
      "metadata": {
        "id": "tOwhxajLQQ30"
      },
      "execution_count": null,
      "outputs": []
    },
    {
      "cell_type": "markdown",
      "source": [
        "## Exercício 7: Dicionários\n",
        "\n",
        "### Texto Explicativo:\n",
        "\n",
        "Dicionários armazenam dados em pares chave-valor, permitindo acessar valores de forma rápida por suas chaves."
      ],
      "metadata": {
        "id": "RKboZDf-QSww"
      }
    },
    {
      "cell_type": "code",
      "source": [
        "# Exercício Resolvido: Mapeamento de países para capitais\n",
        "capitais = {\"Brasil\": \"Brasília\", \"França\": \"Paris\", \"Japão\": \"Tóquio\"}\n",
        "for pais, capital in capitais.items():\n",
        "    print(f\"A capital do {pais} é {capital}.\")"
      ],
      "metadata": {
        "id": "qS-GtqguQV5w"
      },
      "execution_count": null,
      "outputs": []
    },
    {
      "cell_type": "markdown",
      "source": [
        "### Exercícios de Fixação:\n",
        "\n",
        "1. Adicione um novo par chave-valor ao dicionário de capitais.\n",
        "\n",
        "Passo a passo:\n",
        "\n",
        "1. Escolher uma nova chave e valor: Decida qual país adicionar e sua capital.\n",
        "2. Adicionar ao dicionário: Use dicionario[nova_chave] = novo_valor para inserir o novo par.\n",
        "3. Imprimir o dicionário: Veja todas as mudanças feitas."
      ],
      "metadata": {
        "id": "m5CLiEpmQaxj"
      }
    },
    {
      "cell_type": "code",
      "source": [
        "# Escreva seu código aqui\n",
        "\n",
        "# 2. Remova um país do dicionário e imprima o resultado.\n",
        "\n",
        "# 3. Verifique se a chave \"Espanha\" está no dicionário."
      ],
      "metadata": {
        "id": "8ZdI79pgQc2B"
      },
      "execution_count": null,
      "outputs": []
    },
    {
      "cell_type": "markdown",
      "source": [
        "## Exercício 8: Manipulação de Arquivos\n",
        "\n",
        "### Texto Explicativo:\n",
        "\n",
        "Python permite leitura e escrita em arquivos, o que é útil para salvar e carregar dados."
      ],
      "metadata": {
        "id": "nzbOd2tzQdm9"
      }
    },
    {
      "cell_type": "code",
      "source": [
        "# Exercício Resolvido: Contar linhas em um arquivo\n",
        "with open(\"exemplo.txt\", \"r\") as arquivo:\n",
        "    linhas = arquivo.readlines()\n",
        "    print(f\"O arquivo possui {len(linhas)} linhas.\")"
      ],
      "metadata": {
        "id": "K_ZwtKnqQfW5"
      },
      "execution_count": null,
      "outputs": []
    },
    {
      "cell_type": "markdown",
      "source": [
        "### Exercícios de Fixação:\n",
        "\n",
        "1. Crie um arquivo e escreva \"Olá, Mundo!\" nele.\n",
        "\n",
        "Passo a passo:\n",
        "\n",
        "1. Abrir o arquivo para escrita: Use open(\"arquivo.txt\", \"w\").\n",
        "2. Escrever no arquivo: Use o método .write(\"Olá, Mundo!\").\n",
        "3. Fechar o arquivo: Use .close() ou o contexto with para garantir que o arquivo seja salvo corretamente."
      ],
      "metadata": {
        "id": "9B7Y5NunQim4"
      }
    },
    {
      "cell_type": "code",
      "source": [
        "# Escreva seu código aqui\n",
        "\n",
        "# 2. Leia um arquivo e imprima seu conteúdo linha por linha.\n",
        "\n",
        "# 3. Escreva um programa que conte o número de palavras em um arquivo."
      ],
      "metadata": {
        "id": "eIKJNJv7Qkax"
      },
      "execution_count": null,
      "outputs": []
    },
    {
      "cell_type": "markdown",
      "source": [
        "## Exercício 9: Conjuntos\n",
        "\n",
        "### Texto Explicativo:\n",
        "\n",
        "Conjuntos são coleções de itens únicos, perfeitos para operações como interseção e diferença."
      ],
      "metadata": {
        "id": "GYVvyyD6QmW4"
      }
    },
    {
      "cell_type": "code",
      "source": [
        "# Exercício Resolvido: Conjuntos e interseção\n",
        "conjuntoA = {1, 2, 3, 4, 5}\n",
        "conjuntoB = {4, 5, 6, 7, 8}\n",
        "interseccao = conjuntoA.intersection(conjuntoB)\n",
        "print(interseccao)"
      ],
      "metadata": {
        "id": "Ucds84oeQoXa"
      },
      "execution_count": null,
      "outputs": []
    },
    {
      "cell_type": "markdown",
      "source": [
        "### Exercícios de Fixação:\n",
        "\n",
        "1. Crie um conjunto de números de 1 a 5 e imprima.\n",
        "\n",
        "Passo a passo:\n",
        "\n",
        "1. Definir um conjunto: Use {} para criar um conjunto com os números desejados.\n",
        "2. Imprimir o conjunto: Exiba o conteúdo do conjunto para verificar."
      ],
      "metadata": {
        "id": "x6B2LsA-QrAZ"
      }
    },
    {
      "cell_type": "code",
      "source": [
        "# Escreva seu código aqui\n",
        "\n",
        "# 2. Adicione o número 6 ao conjunto.\n",
        "\n",
        "# 3. Verifique se o número 3 está no conjunto."
      ],
      "metadata": {
        "id": "MfntoeAaQtev"
      },
      "execution_count": null,
      "outputs": []
    },
    {
      "cell_type": "markdown",
      "source": [
        "## Exercício 10: Matrizes\n",
        "\n",
        "### Texto Explicativo:\n",
        "\n",
        "Em Python, matrizes podem ser criadas usando listas de listas, o que é útil para armazenar e processar dados em tabelas."
      ],
      "metadata": {
        "id": "kfjv8WxSQvw2"
      }
    },
    {
      "cell_type": "code",
      "source": [
        "# Exercício Resolvido: Encontrar o maior elemento em uma matriz 2x3\n",
        "matriz = [\n",
        "    [5, 9, 3],\n",
        "    [4, 7, 6]\n",
        "]\n",
        "\n",
        "maior = matriz[0][0]\n",
        "for linha in matriz:\n",
        "    for elemento in linha:\n",
        "        if elemento > maior:\n",
        "            maior = elemento\n",
        "\n",
        "print(f\"O maior elemento é: {maior}\")"
      ],
      "metadata": {
        "id": "sSYb7xuhQ0bN"
      },
      "execution_count": null,
      "outputs": []
    },
    {
      "cell_type": "markdown",
      "source": [
        "### Exercícios de Fixação:\n",
        "\n",
        "1. Crie uma matriz 3x3 e preencha com números aleatórios.\n",
        "\n",
        "Passo a passo:\n",
        "\n",
        "1. Criar a matriz: Use listas dentro de listas para representar a matriz 3x3.\n",
        "2. Preencher com números aleatórios: Utilize um loop para atribuir valores aleatórios entre 0 e 9.\n",
        "3. Imprimir a matriz: Certifique-se de que os números estejam distribuídos corretamente."
      ],
      "metadata": {
        "id": "sq3ymrzkQ4ZD"
      }
    },
    {
      "cell_type": "code",
      "source": [
        "# Escreva seu código aqui\n",
        "\n",
        "# 2. Some todos os elementos da matriz.\n",
        "\n",
        "# 3. Substitua todos os números negativos da matriz por zero."
      ],
      "metadata": {
        "id": "VbgxEWbPQ6rE"
      },
      "execution_count": null,
      "outputs": []
    },
    {
      "cell_type": "markdown",
      "source": [
        "## Exercício 11: Projeto de Vendas\n",
        "\n",
        "### Texto Explicativo:\n",
        "\n",
        "Este projeto calcula o total de vendas ao longo das semanas e meses, utilizando uma matriz para armazenar dados de vendas."
      ],
      "metadata": {
        "id": "g-x2tByGQ8rI"
      }
    },
    {
      "cell_type": "code",
      "source": [
        "# Exercício Resolvido: Total de vendas em uma matriz 12x4\n",
        "vendas = [\n",
        "    [100, 200, 150, 100],  # Janeiro\n",
        "    [200, 300, 250, 200],  # Fevereiro\n",
        "    # Continue para todos os meses\n",
        "]\n",
        "\n",
        "total_ano = 0\n",
        "for mes in vendas:\n",
        "    total_mes = sum(mes)\n",
        "    total_ano += total_mes\n",
        "    print(f\"Total do mês: {total_mes}\")\n",
        "\n",
        "print(f\"Total do ano: {total_ano}\")"
      ],
      "metadata": {
        "id": "1CTmglMGQ-Tt"
      },
      "execution_count": null,
      "outputs": []
    },
    {
      "cell_type": "markdown",
      "source": [
        "### Exercícios de Fixação:\n",
        "\n",
        "1. Calcule e imprima o total de vendas para cada semana.\n",
        "\n",
        "Passo a passo:\n",
        "\n",
        "1. Iterar sobre a matriz: Use loops para percorrer cada linha e coluna da matriz.\n",
        "2. Somar os valores das semanas: Some as vendas de cada coluna.\n",
        "3. Imprimir os totais: Exiba o total acumulado para cada semana."
      ],
      "metadata": {
        "id": "7p2RvpLyRA4x"
      }
    },
    {
      "cell_type": "code",
      "source": [
        "# Escreva seu código aqui\n",
        "\n",
        "# 2. Encontre o mês com maior vendas totais.\n",
        "\n",
        "# 3. Calcule a média de vendas por semana ao longo do ano."
      ],
      "metadata": {
        "id": "nu34fSJRRCXt"
      },
      "execution_count": null,
      "outputs": []
    },
    {
      "cell_type": "markdown",
      "source": [
        "## Exercício 12: Manipulação de Listas Avançada\n",
        "\n",
        "### Texto Explicativo:\n",
        "\n",
        "Vamos criar uma matriz a partir de duas listas aplicando operações sobre seus elementos, usando compreensões de listas para simplificar o código."
      ],
      "metadata": {
        "id": "Hw4itIgiRO0E"
      }
    },
    {
      "cell_type": "code",
      "source": [
        "# Exercício Resolvido: Construir matriz C a partir de A e B\n",
        "A = [1, 2, 3, 4]\n",
        "B = [5, 6, 7, 8]\n",
        "\n",
        "C = [[a * 2, b - 5] for a, b in zip(A, B)]\n",
        "print(C)"
      ],
      "metadata": {
        "id": "W0Q0M2CZRSCF"
      },
      "execution_count": null,
      "outputs": []
    },
    {
      "cell_type": "markdown",
      "source": [
        "### Exercícios de Fixação:\n",
        "\n",
        "1. Crie uma lista A com 5 números pares e B com 5 números ímpares.\n",
        "\n",
        "Passo a passo:\n",
        "\n",
        "1. Definir a lista A: Use uma compreensão de lista para criar números pares range(2, 12, 2).\n",
        "2. Definir a lista B: Use uma compreensão de lista para números ímpares range(1, 10, 2).\n",
        "3. Imprimir as listas: Verifique se as listas estão corretas."
      ],
      "metadata": {
        "id": "Cz4JAO_VRaJq"
      }
    },
    {
      "cell_type": "code",
      "source": [
        "# Escreva seu código aqui\n",
        "\n",
        "# 2. Construa uma nova lista C onde cada elemento é a soma dos elementos correspondentes de A e B.\n",
        "\n",
        "# 3. Multiplique todos os elementos da lista C por 3."
      ],
      "metadata": {
        "id": "NvMnOBTgRaxS"
      },
      "execution_count": null,
      "outputs": []
    },
    {
      "cell_type": "markdown",
      "source": [
        "## Conclusão:\n",
        "\n",
        "Parabéns por completar o Caderno de Exercícios em Python! Você aprendeu conceitos fundamentais de programação com prática aplicada. Continue praticando para fortalecer suas habilidades. Boa sorte na sua jornada de aprendizado!"
      ],
      "metadata": {
        "id": "HwKC-Y-FRczK"
      }
    }
  ]
}